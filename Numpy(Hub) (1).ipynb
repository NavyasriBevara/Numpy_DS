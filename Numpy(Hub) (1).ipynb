{
 "cells": [
  {
   "cell_type": "markdown",
   "id": "af4dd37f-cbc9-4811-8e6e-c452d21d31f9",
   "metadata": {},
   "source": [
    "# Numpy"
   ]
  },
  {
   "attachments": {},
   "cell_type": "markdown",
   "id": "7a4b23d2-c0a7-46a7-b781-18d326e8f218",
   "metadata": {},
   "source": [
    "* NumPy is Known as Numerical Python.\n",
    "* Numpy is a foundamental library for working with arrays and mathematical operations in Python. It is commonly used for data analysis,scientific computation, and machine learning.\n",
    "* It serves as the foundation for many data science and scientific computing libraries, including Pandas, SciPy, Scikit-Learn, and TensorFlow, due to its performance and flexibility.\n",
    "*  NumPy allows for efficient operations on data in Python.\n",
    "*  Vectorized Computations."
   ]
  },
  {
   "cell_type": "markdown",
   "id": "47e4f3a4-0251-494a-a234-951826e8c1be",
   "metadata": {},
   "source": [
    "#### Import numpy library"
   ]
  },
  {
   "cell_type": "code",
   "execution_count": 114,
   "id": "95d6d064-21a2-41e3-b6be-e4665f6ad0f6",
   "metadata": {},
   "outputs": [],
   "source": [
    "import numpy as np"
   ]
  },
  {
   "cell_type": "code",
   "execution_count": 115,
   "id": "da04fd23-5ac2-429a-a70f-82a1071f1ef3",
   "metadata": {},
   "outputs": [
    {
     "data": {
      "text/plain": [
       "array([7, 5, 4, 3, 9])"
      ]
     },
     "execution_count": 115,
     "metadata": {},
     "output_type": "execute_result"
    }
   ],
   "source": [
    "## Creating array\n",
    "arr=np.array([7,5,4,3,9])\n",
    "arr"
   ]
  },
  {
   "cell_type": "code",
   "execution_count": 116,
   "id": "134e4f5a-448f-414d-b91f-927bca6e68cd",
   "metadata": {},
   "outputs": [
    {
     "data": {
      "text/plain": [
       "dtype('int32')"
      ]
     },
     "execution_count": 116,
     "metadata": {},
     "output_type": "execute_result"
    }
   ],
   "source": [
    "# Data type\n",
    "arr.dtype"
   ]
  },
  {
   "cell_type": "code",
   "execution_count": 117,
   "id": "5a3b0cf9-39ec-4025-9124-52cd221aa3de",
   "metadata": {},
   "outputs": [
    {
     "data": {
      "text/plain": [
       "1"
      ]
     },
     "execution_count": 117,
     "metadata": {},
     "output_type": "execute_result"
    }
   ],
   "source": [
    "arr.ndim"
   ]
  },
  {
   "cell_type": "code",
   "execution_count": 118,
   "id": "55094322-f166-4686-808f-e28578daafd8",
   "metadata": {},
   "outputs": [
    {
     "data": {
      "text/plain": [
       "(5,)"
      ]
     },
     "execution_count": 118,
     "metadata": {},
     "output_type": "execute_result"
    }
   ],
   "source": [
    "arr.shape"
   ]
  },
  {
   "cell_type": "code",
   "execution_count": 119,
   "id": "59f208fd-c3b7-453b-a1d3-03c6fdf5a273",
   "metadata": {},
   "outputs": [
    {
     "data": {
      "text/plain": [
       "array([1, 2, 3, 4, 5, 6, 7, 8, 9])"
      ]
     },
     "execution_count": 119,
     "metadata": {},
     "output_type": "execute_result"
    }
   ],
   "source": [
    "## arange() returns a new lits with evenly spaced values in given range.\n",
    "list=np.arange(1,10)\n",
    "list"
   ]
  },
  {
   "cell_type": "code",
   "execution_count": 120,
   "id": "17968bab-52d6-40f2-8e49-909c110f2ecd",
   "metadata": {},
   "outputs": [
    {
     "data": {
      "text/plain": [
       "array([ 1.  ,  3.25,  5.5 ,  7.75, 10.  ])"
      ]
     },
     "execution_count": 120,
     "metadata": {},
     "output_type": "execute_result"
    }
   ],
   "source": [
    "## linspace() returns a new lits with evenly spaced values in given range.\n",
    "list=np.linspace(1,10,5)\n",
    "list"
   ]
  },
  {
   "cell_type": "markdown",
   "id": "3a9b040d-7e43-4b83-9763-e00b2510ed87",
   "metadata": {},
   "source": [
    "Difference Between linspace() aand arange() :\n",
    "* linspace() include stop value by default, while arange() excludes it.\n",
    "* linspace() allows specifying the number of samples,while arange() requires specifying the step  size."
   ]
  },
  {
   "cell_type": "code",
   "execution_count": 121,
   "id": "4219035d-8a5a-4d0a-b422-60a88223e140",
   "metadata": {},
   "outputs": [
    {
     "data": {
      "text/plain": [
       "array([1.00000000e+01, 1.77827941e+03, 3.16227766e+05, 5.62341325e+07,\n",
       "       1.00000000e+10])"
      ]
     },
     "execution_count": 121,
     "metadata": {},
     "output_type": "execute_result"
    }
   ],
   "source": [
    "## logspace() returns evenly spaced log values.\n",
    "list1=np.logspace(1,10,5)\n",
    "list1"
   ]
  },
  {
   "cell_type": "code",
   "execution_count": 122,
   "id": "48956c9a-b842-4d83-a782-8732dbf0c20c",
   "metadata": {},
   "outputs": [
    {
     "data": {
      "text/plain": [
       "array([7., 5., 4., 3., 9.])"
      ]
     },
     "execution_count": 122,
     "metadata": {},
     "output_type": "execute_result"
    }
   ],
   "source": [
    "## To change datatype of an array we have function called astype()\n",
    "arr.astype(np.float64)"
   ]
  },
  {
   "cell_type": "code",
   "execution_count": 123,
   "id": "0909a1dd-84c8-4dcb-8fdf-47d6a552c347",
   "metadata": {},
   "outputs": [
    {
     "data": {
      "text/plain": [
       "array([5, 4, 3, 9])"
      ]
     },
     "execution_count": 123,
     "metadata": {},
     "output_type": "execute_result"
    }
   ],
   "source": [
    "## Indexing and slicing\n",
    "arr[1:]"
   ]
  },
  {
   "cell_type": "code",
   "execution_count": 124,
   "id": "66ebd6b3-1cdd-488d-9e87-9c43d5dcff1c",
   "metadata": {},
   "outputs": [
    {
     "data": {
      "text/plain": [
       "array([[1, 2, 3],\n",
       "       [4, 5, 6],\n",
       "       [6, 7, 8]])"
      ]
     },
     "execution_count": 124,
     "metadata": {},
     "output_type": "execute_result"
    }
   ],
   "source": [
    "## Creating 2D array\n",
    "num=np.array([[1,2,3],[4,5,6],[6,7,8]])\n",
    "num"
   ]
  },
  {
   "cell_type": "code",
   "execution_count": 125,
   "id": "2d5edda5-8469-4859-98bb-4f88a8510542",
   "metadata": {},
   "outputs": [
    {
     "data": {
      "text/plain": [
       "(3, 3)"
      ]
     },
     "execution_count": 125,
     "metadata": {},
     "output_type": "execute_result"
    }
   ],
   "source": [
    "num.shape"
   ]
  },
  {
   "cell_type": "code",
   "execution_count": 126,
   "id": "e49ea3af-d14e-4c1e-8fc0-b2e5abe4586b",
   "metadata": {},
   "outputs": [
    {
     "data": {
      "text/plain": [
       "array([[[1, 2, 3],\n",
       "        [3, 4, 5]],\n",
       "\n",
       "       [[2, 3, 4],\n",
       "        [7, 8, 9]]])"
      ]
     },
     "execution_count": 126,
     "metadata": {},
     "output_type": "execute_result"
    }
   ],
   "source": [
    "## Creating 3D array\n",
    "num1=np.array([[[1,2,3],[3,4,5]],[[2,3,4],[7,8,9]]])\n",
    "num1"
   ]
  },
  {
   "cell_type": "code",
   "execution_count": 127,
   "id": "bd16fc9c-b8c0-4432-91d3-4c36187ac57d",
   "metadata": {},
   "outputs": [
    {
     "data": {
      "text/plain": [
       "(2, 2, 3)"
      ]
     },
     "execution_count": 127,
     "metadata": {},
     "output_type": "execute_result"
    }
   ],
   "source": [
    "num1.shape"
   ]
  },
  {
   "cell_type": "markdown",
   "id": "8485aa39-d6a5-4fe7-a77a-0306505f4b98",
   "metadata": {},
   "source": [
    "### Basic Element Wise Operation:\n",
    "> Basic element operations in NumPy involve performing arithmetic and mathematical operations directly on NumPy arrays. These operations are typically element-wise, meaning they operate on corresponding elements of the arrays."
   ]
  },
  {
   "cell_type": "code",
   "execution_count": 128,
   "id": "3cb07ab2-75c4-4fba-a1d8-61e7fe255748",
   "metadata": {},
   "outputs": [],
   "source": [
    "arr1=np.array([3,4,7,8])\n",
    "arr2=np.array([2,9,1,4])"
   ]
  },
  {
   "cell_type": "code",
   "execution_count": 129,
   "id": "378e86e6-1006-465c-9fb9-f50dd130255f",
   "metadata": {},
   "outputs": [
    {
     "data": {
      "text/plain": [
       "array([ 5, 13,  8, 12])"
      ]
     },
     "execution_count": 129,
     "metadata": {},
     "output_type": "execute_result"
    }
   ],
   "source": [
    "## Addition\n",
    "arr1+arr2"
   ]
  },
  {
   "cell_type": "code",
   "execution_count": 130,
   "id": "3397918a-0beb-478c-8216-4e4f87d4c3cc",
   "metadata": {},
   "outputs": [
    {
     "data": {
      "text/plain": [
       "array([ 1, -5,  6,  4])"
      ]
     },
     "execution_count": 130,
     "metadata": {},
     "output_type": "execute_result"
    }
   ],
   "source": [
    "## Subtarction\n",
    "arr1-arr2"
   ]
  },
  {
   "cell_type": "code",
   "execution_count": 131,
   "id": "2c52b908-c45e-4a1d-afb5-98ffebcc671c",
   "metadata": {},
   "outputs": [
    {
     "data": {
      "text/plain": [
       "array([ 6, 36,  7, 32])"
      ]
     },
     "execution_count": 131,
     "metadata": {},
     "output_type": "execute_result"
    }
   ],
   "source": [
    "## Multiplication\n",
    "arr1*arr2"
   ]
  },
  {
   "cell_type": "code",
   "execution_count": 132,
   "id": "006ade3a-198b-4798-91c3-9ee96721ee0f",
   "metadata": {},
   "outputs": [
    {
     "data": {
      "text/plain": [
       "array([1.5       , 0.44444444, 7.        , 2.        ])"
      ]
     },
     "execution_count": 132,
     "metadata": {},
     "output_type": "execute_result"
    }
   ],
   "source": [
    "## Division \n",
    "arr1/arr2"
   ]
  },
  {
   "cell_type": "code",
   "execution_count": 133,
   "id": "db7f315e-be93-42a4-8edc-cd86e5dcfdeb",
   "metadata": {},
   "outputs": [
    {
     "data": {
      "text/plain": [
       "array([1, 4, 0, 0])"
      ]
     },
     "execution_count": 133,
     "metadata": {},
     "output_type": "execute_result"
    }
   ],
   "source": [
    "## Modular\n",
    "arr1%arr2"
   ]
  },
  {
   "cell_type": "code",
   "execution_count": 134,
   "id": "38770ead-2634-4902-b9d1-23cdecdfd4dd",
   "metadata": {},
   "outputs": [
    {
     "data": {
      "text/plain": [
       "array([1.73205081, 2.        , 2.64575131, 2.82842712])"
      ]
     },
     "execution_count": 134,
     "metadata": {},
     "output_type": "execute_result"
    }
   ],
   "source": [
    "## Square root\n",
    "np.sqrt(arr1)"
   ]
  },
  {
   "cell_type": "code",
   "execution_count": 135,
   "id": "f386857e-c62e-4395-93c3-f9427712cecf",
   "metadata": {},
   "outputs": [
    {
     "data": {
      "text/plain": [
       "array([7.38905610e+00, 8.10308393e+03, 2.71828183e+00, 5.45981500e+01])"
      ]
     },
     "execution_count": 135,
     "metadata": {},
     "output_type": "execute_result"
    }
   ],
   "source": [
    "## Exponential\n",
    "np.exp(arr2)"
   ]
  },
  {
   "cell_type": "markdown",
   "id": "3e4d58cd-fa03-4b4c-8ac0-a5f181a7f3e4",
   "metadata": {},
   "source": [
    "### Manipulation of Data:\n",
    "> Manipulating data using NumPy involves a wide range of operations that allow you to reshape, index, slice, join, split, and modify arrays. These manipulations are essential for preparing data for analysis, cleaning, and transforming datasets in a way that allows for more effective computation."
   ]
  },
  {
   "cell_type": "code",
   "execution_count": 136,
   "id": "2ba50cb6-807c-4796-a86f-93514ba1b886",
   "metadata": {},
   "outputs": [
    {
     "data": {
      "text/plain": [
       "array([[1, 2, 3],\n",
       "       [4, 5, 6],\n",
       "       [7, 8, 9]])"
      ]
     },
     "execution_count": 136,
     "metadata": {},
     "output_type": "execute_result"
    }
   ],
   "source": [
    "# Reshaping\n",
    "arr=np.array([1,2,3,4,5,6,7,8,9])\n",
    "a=arr.reshape(3,3)\n",
    "a"
   ]
  },
  {
   "cell_type": "code",
   "execution_count": 137,
   "id": "d1ca5405-7a6d-4c56-96ab-9a84fa637bb7",
   "metadata": {},
   "outputs": [
    {
     "data": {
      "text/plain": [
       "array([1, 2, 3, 4, 5, 6, 7, 8, 9])"
      ]
     },
     "execution_count": 137,
     "metadata": {},
     "output_type": "execute_result"
    }
   ],
   "source": [
    "a.flatten()"
   ]
  },
  {
   "cell_type": "code",
   "execution_count": 138,
   "id": "6ad0ef26-41ef-4a9b-bd7e-12699df87fd2",
   "metadata": {},
   "outputs": [
    {
     "data": {
      "text/plain": [
       "array([[1, 4, 7],\n",
       "       [2, 5, 8],\n",
       "       [3, 6, 9]])"
      ]
     },
     "execution_count": 138,
     "metadata": {},
     "output_type": "execute_result"
    }
   ],
   "source": [
    "# Transpose\n",
    "a.T"
   ]
  },
  {
   "cell_type": "code",
   "execution_count": 139,
   "id": "76d95ce5-875c-48e7-9b0c-736098f1c4b8",
   "metadata": {},
   "outputs": [
    {
     "name": "stdout",
     "output_type": "stream",
     "text": [
      "Concatenated along rows:\n",
      " [[1 2]\n",
      " [3 4]\n",
      " [5 6]]\n",
      "Concatenated along columns:\n",
      " [[1 2 5]\n",
      " [3 4 6]]\n"
     ]
    }
   ],
   "source": [
    "# Conatenation\n",
    "arr3 = np.array([[1, 2], [3, 4]])\n",
    "arr4 = np.array([[5, 6]])\n",
    "concatenated = np.concatenate((arr3, arr4), axis=0)\n",
    "print(\"Concatenated along rows:\\n\", concatenated)\n",
    "concatenated_cols = np.concatenate((arr3, arr4.T), axis=1)\n",
    "print(\"Concatenated along columns:\\n\", concatenated_cols)"
   ]
  },
  {
   "cell_type": "code",
   "execution_count": 140,
   "id": "e573f580-5601-49fc-b085-feeeac7b254c",
   "metadata": {},
   "outputs": [
    {
     "name": "stdout",
     "output_type": "stream",
     "text": [
      "Appended array: [1 2 3 4 5]\n"
     ]
    }
   ],
   "source": [
    "# Adding element to a array\n",
    "arr5 = np.array([1, 2, 3])\n",
    "print(f\"Appended array: {np.append(arr5, [4, 5])}\")"
   ]
  },
  {
   "cell_type": "code",
   "execution_count": 141,
   "id": "c947cdf7-4b67-4dd6-9d7a-f2e7b24ad8b3",
   "metadata": {},
   "outputs": [
    {
     "name": "stdout",
     "output_type": "stream",
     "text": [
      "Array after insertion: [ 1 10 20  2  3]\n"
     ]
    }
   ],
   "source": [
    "# Insert elements at specific positions\n",
    "print(f\"Array after insertion: {np.insert(arr5,1,[10,20])}\")"
   ]
  },
  {
   "cell_type": "code",
   "execution_count": 142,
   "id": "cbc3a802-9cd5-4e4f-abb0-1e00af09bd1c",
   "metadata": {},
   "outputs": [
    {
     "name": "stdout",
     "output_type": "stream",
     "text": [
      "Array after deletion: [1 3]\n"
     ]
    }
   ],
   "source": [
    "# Delete elements from an array\n",
    "print(f\"Array after deletion: {np.delete(arr5,[1])}\")"
   ]
  },
  {
   "cell_type": "code",
   "execution_count": 143,
   "id": "96648dc6-93ae-4655-8ade-b190c02192c5",
   "metadata": {},
   "outputs": [
    {
     "data": {
      "text/plain": [
       "array([2, 3, 5, 8, 9])"
      ]
     },
     "execution_count": 143,
     "metadata": {},
     "output_type": "execute_result"
    }
   ],
   "source": [
    "# Unique elements\n",
    "num=np.array([2,2,3,9,8,8,3,5,2])\n",
    "np.unique(num)"
   ]
  },
  {
   "cell_type": "markdown",
   "id": "e4e41e9a-0b48-4f4d-ab05-bb26d5a718a5",
   "metadata": {},
   "source": [
    "### Aggregation of Data:\n",
    "> Aggregating data using NumPy involves performing various operations that summarize information from arrays. These operations include calculating sums, means, medians, variances, and other statistical measures. Aggregation functions in NumPy are optimized for performance and can handle large datasets efficiently."
   ]
  },
  {
   "cell_type": "code",
   "execution_count": 144,
   "id": "e6baa215-62b0-4e7f-bf9f-53b5b686ff00",
   "metadata": {},
   "outputs": [],
   "source": [
    "arr=np.array([[1, 2, 3], [4, 5, 6]])"
   ]
  },
  {
   "cell_type": "code",
   "execution_count": 145,
   "id": "2e6acbe9-74b2-4865-8616-6b32c1eb70ec",
   "metadata": {},
   "outputs": [
    {
     "name": "stdout",
     "output_type": "stream",
     "text": [
      "Total Sum: 21\n",
      "Sum along rows: [5 7 9]\n",
      "Sum along: [ 6 15]\n"
     ]
    }
   ],
   "source": [
    "# Sum of all elements\n",
    "print(f\"Total Sum: {np.sum(arr)}\")\n",
    "# Sum along rows (axis 0)\n",
    "print(\"Sum along rows:\",np.sum(arr, axis=0) )\n",
    "# Sum along columns (axis 1)\n",
    "print(\"Sum along:\",np.sum(arr, axis=1))"
   ]
  },
  {
   "cell_type": "code",
   "execution_count": 146,
   "id": "3a8ac60f-2ad4-49a3-be7f-ec3ef9e44ce6",
   "metadata": {},
   "outputs": [
    {
     "name": "stdout",
     "output_type": "stream",
     "text": [
      "Mean: 3.5\n"
     ]
    }
   ],
   "source": [
    "# Mean\n",
    "print(\"Mean:\",np.mean(arr))"
   ]
  },
  {
   "cell_type": "code",
   "execution_count": 147,
   "id": "4c177760-c234-453a-b264-55af9ddcbf50",
   "metadata": {},
   "outputs": [
    {
     "name": "stdout",
     "output_type": "stream",
     "text": [
      "Median: 3.5\n"
     ]
    }
   ],
   "source": [
    "# Median\n",
    "print(\"Median:\",np.median(arr))"
   ]
  },
  {
   "cell_type": "code",
   "execution_count": 148,
   "id": "7733b112-a192-4d6b-b8f8-bec62cb5eba5",
   "metadata": {},
   "outputs": [
    {
     "name": "stdout",
     "output_type": "stream",
     "text": [
      "Standara deviation: 1.707825127659933\n"
     ]
    }
   ],
   "source": [
    "# Standard Deviation\n",
    "print(\"Standara deviation:\",np.std(arr))"
   ]
  },
  {
   "cell_type": "code",
   "execution_count": 149,
   "id": "6af7c965-a088-4696-89b0-57b7631e2f0a",
   "metadata": {},
   "outputs": [
    {
     "name": "stdout",
     "output_type": "stream",
     "text": [
      "Variance: 2.9166666666666665\n"
     ]
    }
   ],
   "source": [
    "# Varience\n",
    "print(\"Variance:\",np.var(arr))"
   ]
  },
  {
   "cell_type": "code",
   "execution_count": 150,
   "id": "091b3816-f209-4d14-bd9d-e9a9ccd749ce",
   "metadata": {},
   "outputs": [
    {
     "name": "stdout",
     "output_type": "stream",
     "text": [
      "Minimum: 1\n"
     ]
    }
   ],
   "source": [
    "# Minimum\n",
    "print(\"Minimum:\",np.min(arr))"
   ]
  },
  {
   "cell_type": "code",
   "execution_count": 151,
   "id": "4264b8f1-0607-4a24-b13c-d863b0efac97",
   "metadata": {},
   "outputs": [
    {
     "name": "stdout",
     "output_type": "stream",
     "text": [
      "Maximum: 6\n"
     ]
    }
   ],
   "source": [
    "# Maximum\n",
    "print(\"Maximum:\",np.max(arr))"
   ]
  },
  {
   "cell_type": "code",
   "execution_count": 152,
   "id": "b0972978-6697-4356-b341-e2eb5b6c725e",
   "metadata": {},
   "outputs": [
    {
     "data": {
      "text/plain": [
       "2.25"
      ]
     },
     "execution_count": 152,
     "metadata": {},
     "output_type": "execute_result"
    }
   ],
   "source": [
    "# 25th Percentile\n",
    "np.percentile(arr,25)"
   ]
  },
  {
   "cell_type": "markdown",
   "id": "52c1147f-b72d-498b-a89e-d9076c8f6661",
   "metadata": {},
   "source": [
    "### Analysing of Data:\n",
    "> Analyzing data using NumPy involves using its powerful array manipulation capabilities and mathematical functions to explore datasets, identify patterns, and compute statistics. This is an essential part of data science and machine learning workflows, where NumPy acts as a foundational tool."
   ]
  },
  {
   "cell_type": "code",
   "execution_count": 153,
   "id": "3bb49efe-38f0-41ab-a0eb-b88e9409aced",
   "metadata": {},
   "outputs": [],
   "source": [
    "x = np.array([1, 2, 3, 4, 5])\n",
    "y = np.array([10, 20, 30, 40, 50])"
   ]
  },
  {
   "cell_type": "code",
   "execution_count": 154,
   "id": "86b7c56c-736a-4760-b75b-80231095fd2b",
   "metadata": {},
   "outputs": [
    {
     "name": "stdout",
     "output_type": "stream",
     "text": [
      "Correlation Coefficient:\n",
      " [[1. 1.]\n",
      " [1. 1.]]\n"
     ]
    }
   ],
   "source": [
    "# Correlation Coefficient\n",
    "print(\"Correlation Coefficient:\\n\", np.corrcoef(x,y))"
   ]
  },
  {
   "cell_type": "code",
   "execution_count": 155,
   "id": "fd78ca7e-7b38-4e2a-93c1-f932689863ad",
   "metadata": {},
   "outputs": [
    {
     "name": "stdout",
     "output_type": "stream",
     "text": [
      "Covariance:\n",
      " [[  2.5  25. ]\n",
      " [ 25.  250. ]]\n"
     ]
    }
   ],
   "source": [
    "# Covariance\n",
    "print(\"Covariance:\\n\",np.cov(x,y))"
   ]
  },
  {
   "cell_type": "code",
   "execution_count": 156,
   "id": "29514b62-69e8-435f-aca4-c1dba64ce5bb",
   "metadata": {},
   "outputs": [],
   "source": [
    "A = np.array([[1, 2], [3, 4]])\n",
    "B = np.array([[5, 6], [7, 8]])"
   ]
  },
  {
   "cell_type": "code",
   "execution_count": 157,
   "id": "5e787663-7104-4c3e-9f46-61b08b5ac861",
   "metadata": {},
   "outputs": [
    {
     "name": "stdout",
     "output_type": "stream",
     "text": [
      "Matrix Multiplication:\n",
      " [[19 22]\n",
      " [43 50]]\n"
     ]
    }
   ],
   "source": [
    "# Matrix Multiplication\n",
    "product = np.dot(A, B)\n",
    "print(\"Matrix Multiplication:\\n\", product)"
   ]
  },
  {
   "cell_type": "code",
   "execution_count": 158,
   "id": "b8987107-2a89-454e-8bbd-919dd5867bf4",
   "metadata": {},
   "outputs": [
    {
     "data": {
      "text/plain": [
       "array([False, False,  True, False,  True, False])"
      ]
     },
     "execution_count": 158,
     "metadata": {},
     "output_type": "execute_result"
    }
   ],
   "source": [
    "C = np.array([1, 2, np.nan, 4, np.nan, 6])\n",
    "np.isnan(C)"
   ]
  },
  {
   "cell_type": "markdown",
   "id": "6709be2e-0f52-4bfa-b43b-33e56bfef0cb",
   "metadata": {},
   "source": []
  },
  {
   "cell_type": "markdown",
   "id": "c6a3025a-d28e-4c1d-bd4a-f4979b4ac378",
   "metadata": {},
   "source": [
    "# Conclusion:\n",
    "> The notebook provides a comprehensive overview of NumPy, focusing on its array manipulation capabilities and its use for various mathematical and statistical operations. It is a helpful guide for anyone looking to understand the basics and some advanced functionalities of NumPy. The examples cover a wide range of applications, demonstrating the versatility and power of NumPy in data science and numerical computing tasks."
   ]
  },
  {
   "cell_type": "markdown",
   "id": "65ac72cc-74bd-4624-9429-6d7016862533",
   "metadata": {},
   "source": [
    "#### Thank You"
   ]
  }
 ],
 "metadata": {
  "kernelspec": {
   "display_name": "Python 3 (ipykernel)",
   "language": "python",
   "name": "python3"
  },
  "language_info": {
   "codemirror_mode": {
    "name": "ipython",
    "version": 3
   },
   "file_extension": ".py",
   "mimetype": "text/x-python",
   "name": "python",
   "nbconvert_exporter": "python",
   "pygments_lexer": "ipython3",
   "version": "3.11.7"
  }
 },
 "nbformat": 4,
 "nbformat_minor": 5
}
